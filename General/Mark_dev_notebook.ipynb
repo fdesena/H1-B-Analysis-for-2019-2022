{
 "cells": [
  {
   "cell_type": "code",
   "execution_count": 1,
   "metadata": {},
   "outputs": [],
   "source": [
    "import pandas as pd \n"
   ]
  },
  {
   "cell_type": "code",
   "execution_count": 2,
   "metadata": {},
   "outputs": [
    {
     "name": "stderr",
     "output_type": "stream",
     "text": [
      "/Users/markboenigk/Library/Python/3.9/lib/python/site-packages/IPython/core/interactiveshell.py:3165: DtypeWarning: Columns (12) have mixed types.Specify dtype option on import or set low_memory=False.\n",
      "  has_raised = await self.run_ast_nodes(code_ast.body, cell_name,\n"
     ]
    }
   ],
   "source": [
    "df = pd.read_csv(\"both_tables copy.csv\")"
   ]
  },
  {
   "cell_type": "code",
   "execution_count": 3,
   "metadata": {},
   "outputs": [
    {
     "name": "stdout",
     "output_type": "stream",
     "text": [
      "<class 'pandas.core.frame.DataFrame'>\n",
      "RangeIndex: 1013672 entries, 0 to 1013671\n",
      "Data columns (total 19 columns):\n",
      " #   Column                       Non-Null Count    Dtype  \n",
      "---  ------                       --------------    -----  \n",
      " 0   CASE_NUMBER                  1013672 non-null  object \n",
      " 1   FULL_TIME_POSITION           1013672 non-null  object \n",
      " 2   TOTAL_WORKER_POSITIONS       1013672 non-null  int64  \n",
      " 3   NEW_EMPLOYMENT               1013672 non-null  int64  \n",
      " 4   CONTINUED_EMPLOYMENT         1013672 non-null  int64  \n",
      " 5   CHANGE_PREVIOUS_EMPLOYMENT   1013672 non-null  int64  \n",
      " 6   NEW_CONCURRENT_EMPLOYMENT    1013672 non-null  int64  \n",
      " 7   CHANGE_EMPLOYER              1013672 non-null  int64  \n",
      " 8   AMENDED_PETITION             1013672 non-null  int64  \n",
      " 9   AGENT_REPRESENTING_EMPLOYER  1013672 non-null  object \n",
      " 10  PREVAILING_WAGE              1013672 non-null  int64  \n",
      " 11  PW_UNIT_OF_PAY               1013672 non-null  object \n",
      " 12  H1B_DEPENDENT                470880 non-null   object \n",
      " 13  state_id                     1013671 non-null  float64\n",
      " 14  case.status_id               1013672 non-null  int64  \n",
      " 15  visa.visa_id                 1013672 non-null  int64  \n",
      " 16  employer.employer_id         1013672 non-null  int64  \n",
      " 17  naics.naics_id               1012736 non-null  float64\n",
      " 18  soc_unified.soc_unified_id   1013672 non-null  int64  \n",
      "dtypes: float64(2), int64(12), object(5)\n",
      "memory usage: 146.9+ MB\n",
      "None\n"
     ]
    }
   ],
   "source": [
    "print(df.info())"
   ]
  }
 ],
 "metadata": {
  "kernelspec": {
   "display_name": "Python 3.9.2 64-bit",
   "language": "python",
   "name": "python3"
  },
  "language_info": {
   "codemirror_mode": {
    "name": "ipython",
    "version": 3
   },
   "file_extension": ".py",
   "mimetype": "text/x-python",
   "name": "python",
   "nbconvert_exporter": "python",
   "pygments_lexer": "ipython3",
   "version": "3.9.2"
  },
  "orig_nbformat": 4,
  "vscode": {
   "interpreter": {
    "hash": "aee8b7b246df8f9039afb4144a1f6fd8d2ca17a180786b69acc140d282b71a49"
   }
  }
 },
 "nbformat": 4,
 "nbformat_minor": 2
}
